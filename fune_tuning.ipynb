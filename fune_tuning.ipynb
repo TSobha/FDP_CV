{
  "nbformat": 4,
  "nbformat_minor": 0,
  "metadata": {
    "colab": {
      "provenance": [],
      "authorship_tag": "ABX9TyMXOTWYgw9XJ4TzrE5avtAC",
      "include_colab_link": true
    },
    "kernelspec": {
      "name": "python3",
      "display_name": "Python 3"
    },
    "language_info": {
      "name": "python"
    },
    "accelerator": "GPU",
    "gpuClass": "standard"
  },
  "cells": [
    {
      "cell_type": "markdown",
      "metadata": {
        "id": "view-in-github",
        "colab_type": "text"
      },
      "source": [
        "<a href=\"https://colab.research.google.com/github/TSobha/FDP_CV/blob/main/fune_tuning.ipynb\" target=\"_parent\"><img src=\"https://colab.research.google.com/assets/colab-badge.svg\" alt=\"Open In Colab\"/></a>"
      ]
    },
    {
      "cell_type": "markdown",
      "source": [
        "Fine Tuning"
      ],
      "metadata": {
        "id": "epGySkPPYywG"
      }
    },
    {
      "cell_type": "code",
      "execution_count": 1,
      "metadata": {
        "colab": {
          "base_uri": "https://localhost:8080/"
        },
        "id": "m_UBHK_4Yv0Z",
        "outputId": "e74912cc-52b3-4d56-941b-475066861b9a"
      },
      "outputs": [
        {
          "output_type": "stream",
          "name": "stdout",
          "text": [
            "Mounted at /content/drive\n"
          ]
        }
      ],
      "source": [
        "from google.colab import drive\n",
        "drive.mount('/content/drive')\n",
        "     "
      ]
    },
    {
      "cell_type": "code",
      "source": [
        "import os\n",
        "os.chdir('/content/drive/MyDrive/FDP-CV')"
      ],
      "metadata": {
        "id": "OqkKBg9Hb0Co"
      },
      "execution_count": 2,
      "outputs": []
    },
    {
      "cell_type": "code",
      "source": [
        "import tensorflow as tf\n",
        "print(tf.__version__)\n",
        "\n",
        "from tensorflow import keras\n",
        "tf.random.set_seed(42)\n",
        "\n",
        "import numpy as np\n",
        "np.random.seed(42)\n",
        "\n",
        "import matplotlib.pyplot as plt\n",
        "%matplotlib inline"
      ],
      "metadata": {
        "colab": {
          "base_uri": "https://localhost:8080/"
        },
        "id": "XWcIhgtLb0Le",
        "outputId": "bea62785-e5ea-4fb1-e6f1-62fd7ef7b720"
      },
      "execution_count": 3,
      "outputs": [
        {
          "output_type": "stream",
          "name": "stdout",
          "text": [
            "2.9.2\n"
          ]
        }
      ]
    },
    {
      "cell_type": "code",
      "source": [
        "# load numpy array from npy file\n",
        "from numpy import load\n",
        "\n",
        "X_train_std = load('/content/drive/MyDrive/Models/X_train_std.npy')\n",
        "X_test_std = load('/content/drive/MyDrive/Models/X_test_std.npy')\n",
        "\n",
        "y_train = load('/content/drive/MyDrive/Models/y_train.npy')\n",
        "y_test = load('/content/drive/MyDrive/Models/y_test.npy')\n",
        "     "
      ],
      "metadata": {
        "id": "Pd89yIFub0OW"
      },
      "execution_count": 4,
      "outputs": []
    },
    {
      "cell_type": "code",
      "source": [
        "\n",
        "print(\"X_train_std_shape: {}\".format(X_train_std.shape))\n",
        "print(\"X_test_std_shape: {}\".format(X_test_std.shape))"
      ],
      "metadata": {
        "colab": {
          "base_uri": "https://localhost:8080/"
        },
        "id": "Eg_CTAgob0RW",
        "outputId": "7f5aa839-7c0e-4391-da39-ba215123af53"
      },
      "execution_count": 5,
      "outputs": [
        {
          "output_type": "stream",
          "name": "stdout",
          "text": [
            "X_train_std_shape: (400, 299, 299, 3)\n",
            "X_test_std_shape: (100, 299, 299, 3)\n"
          ]
        }
      ]
    },
    {
      "cell_type": "code",
      "source": [
        "# Load the saved best model\n",
        "\n",
        "model_FineTune = keras.models.load_model('/content/drive/MyDrive/Models/01_Xception_TransferLearning_Best_Model.h5')\n",
        "     "
      ],
      "metadata": {
        "id": "LY7Su7oIb0U1"
      },
      "execution_count": 6,
      "outputs": []
    },
    {
      "cell_type": "code",
      "source": [
        "model_FineTune.summary()"
      ],
      "metadata": {
        "colab": {
          "base_uri": "https://localhost:8080/"
        },
        "id": "Fc3w7lQ5b0Xn",
        "outputId": "f81891b3-5e23-4264-f990-60e2f602c8d6"
      },
      "execution_count": 7,
      "outputs": [
        {
          "output_type": "stream",
          "name": "stdout",
          "text": [
            "Model: \"model\"\n",
            "__________________________________________________________________________________________________\n",
            " Layer (type)                   Output Shape         Param #     Connected to                     \n",
            "==================================================================================================\n",
            " input_2 (InputLayer)           [(None, None, None,  0           []                               \n",
            "                                 3)]                                                              \n",
            "                                                                                                  \n",
            " block1_conv1 (Conv2D)          (None, None, None,   864         ['input_2[0][0]']                \n",
            "                                32)                                                               \n",
            "                                                                                                  \n",
            " block1_conv1_bn (BatchNormaliz  (None, None, None,   128        ['block1_conv1[0][0]']           \n",
            " ation)                         32)                                                               \n",
            "                                                                                                  \n",
            " block1_conv1_act (Activation)  (None, None, None,   0           ['block1_conv1_bn[0][0]']        \n",
            "                                32)                                                               \n",
            "                                                                                                  \n",
            " block1_conv2 (Conv2D)          (None, None, None,   18432       ['block1_conv1_act[0][0]']       \n",
            "                                64)                                                               \n",
            "                                                                                                  \n",
            " block1_conv2_bn (BatchNormaliz  (None, None, None,   256        ['block1_conv2[0][0]']           \n",
            " ation)                         64)                                                               \n",
            "                                                                                                  \n",
            " block1_conv2_act (Activation)  (None, None, None,   0           ['block1_conv2_bn[0][0]']        \n",
            "                                64)                                                               \n",
            "                                                                                                  \n",
            " block2_sepconv1 (SeparableConv  (None, None, None,   8768       ['block1_conv2_act[0][0]']       \n",
            " 2D)                            128)                                                              \n",
            "                                                                                                  \n",
            " block2_sepconv1_bn (BatchNorma  (None, None, None,   512        ['block2_sepconv1[0][0]']        \n",
            " lization)                      128)                                                              \n",
            "                                                                                                  \n",
            " block2_sepconv2_act (Activatio  (None, None, None,   0          ['block2_sepconv1_bn[0][0]']     \n",
            " n)                             128)                                                              \n",
            "                                                                                                  \n",
            " block2_sepconv2 (SeparableConv  (None, None, None,   17536      ['block2_sepconv2_act[0][0]']    \n",
            " 2D)                            128)                                                              \n",
            "                                                                                                  \n",
            " block2_sepconv2_bn (BatchNorma  (None, None, None,   512        ['block2_sepconv2[0][0]']        \n",
            " lization)                      128)                                                              \n",
            "                                                                                                  \n",
            " conv2d_4 (Conv2D)              (None, None, None,   8192        ['block1_conv2_act[0][0]']       \n",
            "                                128)                                                              \n",
            "                                                                                                  \n",
            " block2_pool (MaxPooling2D)     (None, None, None,   0           ['block2_sepconv2_bn[0][0]']     \n",
            "                                128)                                                              \n",
            "                                                                                                  \n",
            " batch_normalization_4 (BatchNo  (None, None, None,   512        ['conv2d_4[0][0]']               \n",
            " rmalization)                   128)                                                              \n",
            "                                                                                                  \n",
            " add_12 (Add)                   (None, None, None,   0           ['block2_pool[0][0]',            \n",
            "                                128)                              'batch_normalization_4[0][0]']  \n",
            "                                                                                                  \n",
            " block3_sepconv1_act (Activatio  (None, None, None,   0          ['add_12[0][0]']                 \n",
            " n)                             128)                                                              \n",
            "                                                                                                  \n",
            " block3_sepconv1 (SeparableConv  (None, None, None,   33920      ['block3_sepconv1_act[0][0]']    \n",
            " 2D)                            256)                                                              \n",
            "                                                                                                  \n",
            " block3_sepconv1_bn (BatchNorma  (None, None, None,   1024       ['block3_sepconv1[0][0]']        \n",
            " lization)                      256)                                                              \n",
            "                                                                                                  \n",
            " block3_sepconv2_act (Activatio  (None, None, None,   0          ['block3_sepconv1_bn[0][0]']     \n",
            " n)                             256)                                                              \n",
            "                                                                                                  \n",
            " block3_sepconv2 (SeparableConv  (None, None, None,   67840      ['block3_sepconv2_act[0][0]']    \n",
            " 2D)                            256)                                                              \n",
            "                                                                                                  \n",
            " block3_sepconv2_bn (BatchNorma  (None, None, None,   1024       ['block3_sepconv2[0][0]']        \n",
            " lization)                      256)                                                              \n",
            "                                                                                                  \n",
            " conv2d_5 (Conv2D)              (None, None, None,   32768       ['add_12[0][0]']                 \n",
            "                                256)                                                              \n",
            "                                                                                                  \n",
            " block3_pool (MaxPooling2D)     (None, None, None,   0           ['block3_sepconv2_bn[0][0]']     \n",
            "                                256)                                                              \n",
            "                                                                                                  \n",
            " batch_normalization_5 (BatchNo  (None, None, None,   1024       ['conv2d_5[0][0]']               \n",
            " rmalization)                   256)                                                              \n",
            "                                                                                                  \n",
            " add_13 (Add)                   (None, None, None,   0           ['block3_pool[0][0]',            \n",
            "                                256)                              'batch_normalization_5[0][0]']  \n",
            "                                                                                                  \n",
            " block4_sepconv1_act (Activatio  (None, None, None,   0          ['add_13[0][0]']                 \n",
            " n)                             256)                                                              \n",
            "                                                                                                  \n",
            " block4_sepconv1 (SeparableConv  (None, None, None,   188672     ['block4_sepconv1_act[0][0]']    \n",
            " 2D)                            728)                                                              \n",
            "                                                                                                  \n",
            " block4_sepconv1_bn (BatchNorma  (None, None, None,   2912       ['block4_sepconv1[0][0]']        \n",
            " lization)                      728)                                                              \n",
            "                                                                                                  \n",
            " block4_sepconv2_act (Activatio  (None, None, None,   0          ['block4_sepconv1_bn[0][0]']     \n",
            " n)                             728)                                                              \n",
            "                                                                                                  \n",
            " block4_sepconv2 (SeparableConv  (None, None, None,   536536     ['block4_sepconv2_act[0][0]']    \n",
            " 2D)                            728)                                                              \n",
            "                                                                                                  \n",
            " block4_sepconv2_bn (BatchNorma  (None, None, None,   2912       ['block4_sepconv2[0][0]']        \n",
            " lization)                      728)                                                              \n",
            "                                                                                                  \n",
            " conv2d_6 (Conv2D)              (None, None, None,   186368      ['add_13[0][0]']                 \n",
            "                                728)                                                              \n",
            "                                                                                                  \n",
            " block4_pool (MaxPooling2D)     (None, None, None,   0           ['block4_sepconv2_bn[0][0]']     \n",
            "                                728)                                                              \n",
            "                                                                                                  \n",
            " batch_normalization_6 (BatchNo  (None, None, None,   2912       ['conv2d_6[0][0]']               \n",
            " rmalization)                   728)                                                              \n",
            "                                                                                                  \n",
            " add_14 (Add)                   (None, None, None,   0           ['block4_pool[0][0]',            \n",
            "                                728)                              'batch_normalization_6[0][0]']  \n",
            "                                                                                                  \n",
            " block5_sepconv1_act (Activatio  (None, None, None,   0          ['add_14[0][0]']                 \n",
            " n)                             728)                                                              \n",
            "                                                                                                  \n",
            " block5_sepconv1 (SeparableConv  (None, None, None,   536536     ['block5_sepconv1_act[0][0]']    \n",
            " 2D)                            728)                                                              \n",
            "                                                                                                  \n",
            " block5_sepconv1_bn (BatchNorma  (None, None, None,   2912       ['block5_sepconv1[0][0]']        \n",
            " lization)                      728)                                                              \n",
            "                                                                                                  \n",
            " block5_sepconv2_act (Activatio  (None, None, None,   0          ['block5_sepconv1_bn[0][0]']     \n",
            " n)                             728)                                                              \n",
            "                                                                                                  \n",
            " block5_sepconv2 (SeparableConv  (None, None, None,   536536     ['block5_sepconv2_act[0][0]']    \n",
            " 2D)                            728)                                                              \n",
            "                                                                                                  \n",
            " block5_sepconv2_bn (BatchNorma  (None, None, None,   2912       ['block5_sepconv2[0][0]']        \n",
            " lization)                      728)                                                              \n",
            "                                                                                                  \n",
            " block5_sepconv3_act (Activatio  (None, None, None,   0          ['block5_sepconv2_bn[0][0]']     \n",
            " n)                             728)                                                              \n",
            "                                                                                                  \n",
            " block5_sepconv3 (SeparableConv  (None, None, None,   536536     ['block5_sepconv3_act[0][0]']    \n",
            " 2D)                            728)                                                              \n",
            "                                                                                                  \n",
            " block5_sepconv3_bn (BatchNorma  (None, None, None,   2912       ['block5_sepconv3[0][0]']        \n",
            " lization)                      728)                                                              \n",
            "                                                                                                  \n",
            " add_15 (Add)                   (None, None, None,   0           ['block5_sepconv3_bn[0][0]',     \n",
            "                                728)                              'add_14[0][0]']                 \n",
            "                                                                                                  \n",
            " block6_sepconv1_act (Activatio  (None, None, None,   0          ['add_15[0][0]']                 \n",
            " n)                             728)                                                              \n",
            "                                                                                                  \n",
            " block6_sepconv1 (SeparableConv  (None, None, None,   536536     ['block6_sepconv1_act[0][0]']    \n",
            " 2D)                            728)                                                              \n",
            "                                                                                                  \n",
            " block6_sepconv1_bn (BatchNorma  (None, None, None,   2912       ['block6_sepconv1[0][0]']        \n",
            " lization)                      728)                                                              \n",
            "                                                                                                  \n",
            " block6_sepconv2_act (Activatio  (None, None, None,   0          ['block6_sepconv1_bn[0][0]']     \n",
            " n)                             728)                                                              \n",
            "                                                                                                  \n",
            " block6_sepconv2 (SeparableConv  (None, None, None,   536536     ['block6_sepconv2_act[0][0]']    \n",
            " 2D)                            728)                                                              \n",
            "                                                                                                  \n",
            " block6_sepconv2_bn (BatchNorma  (None, None, None,   2912       ['block6_sepconv2[0][0]']        \n",
            " lization)                      728)                                                              \n",
            "                                                                                                  \n",
            " block6_sepconv3_act (Activatio  (None, None, None,   0          ['block6_sepconv2_bn[0][0]']     \n",
            " n)                             728)                                                              \n",
            "                                                                                                  \n",
            " block6_sepconv3 (SeparableConv  (None, None, None,   536536     ['block6_sepconv3_act[0][0]']    \n",
            " 2D)                            728)                                                              \n",
            "                                                                                                  \n",
            " block6_sepconv3_bn (BatchNorma  (None, None, None,   2912       ['block6_sepconv3[0][0]']        \n",
            " lization)                      728)                                                              \n",
            "                                                                                                  \n",
            " add_16 (Add)                   (None, None, None,   0           ['block6_sepconv3_bn[0][0]',     \n",
            "                                728)                              'add_15[0][0]']                 \n",
            "                                                                                                  \n",
            " block7_sepconv1_act (Activatio  (None, None, None,   0          ['add_16[0][0]']                 \n",
            " n)                             728)                                                              \n",
            "                                                                                                  \n",
            " block7_sepconv1 (SeparableConv  (None, None, None,   536536     ['block7_sepconv1_act[0][0]']    \n",
            " 2D)                            728)                                                              \n",
            "                                                                                                  \n",
            " block7_sepconv1_bn (BatchNorma  (None, None, None,   2912       ['block7_sepconv1[0][0]']        \n",
            " lization)                      728)                                                              \n",
            "                                                                                                  \n",
            " block7_sepconv2_act (Activatio  (None, None, None,   0          ['block7_sepconv1_bn[0][0]']     \n",
            " n)                             728)                                                              \n",
            "                                                                                                  \n",
            " block7_sepconv2 (SeparableConv  (None, None, None,   536536     ['block7_sepconv2_act[0][0]']    \n",
            " 2D)                            728)                                                              \n",
            "                                                                                                  \n",
            " block7_sepconv2_bn (BatchNorma  (None, None, None,   2912       ['block7_sepconv2[0][0]']        \n",
            " lization)                      728)                                                              \n",
            "                                                                                                  \n",
            " block7_sepconv3_act (Activatio  (None, None, None,   0          ['block7_sepconv2_bn[0][0]']     \n",
            " n)                             728)                                                              \n",
            "                                                                                                  \n",
            " block7_sepconv3 (SeparableConv  (None, None, None,   536536     ['block7_sepconv3_act[0][0]']    \n",
            " 2D)                            728)                                                              \n",
            "                                                                                                  \n",
            " block7_sepconv3_bn (BatchNorma  (None, None, None,   2912       ['block7_sepconv3[0][0]']        \n",
            " lization)                      728)                                                              \n",
            "                                                                                                  \n",
            " add_17 (Add)                   (None, None, None,   0           ['block7_sepconv3_bn[0][0]',     \n",
            "                                728)                              'add_16[0][0]']                 \n",
            "                                                                                                  \n",
            " block8_sepconv1_act (Activatio  (None, None, None,   0          ['add_17[0][0]']                 \n",
            " n)                             728)                                                              \n",
            "                                                                                                  \n",
            " block8_sepconv1 (SeparableConv  (None, None, None,   536536     ['block8_sepconv1_act[0][0]']    \n",
            " 2D)                            728)                                                              \n",
            "                                                                                                  \n",
            " block8_sepconv1_bn (BatchNorma  (None, None, None,   2912       ['block8_sepconv1[0][0]']        \n",
            " lization)                      728)                                                              \n",
            "                                                                                                  \n",
            " block8_sepconv2_act (Activatio  (None, None, None,   0          ['block8_sepconv1_bn[0][0]']     \n",
            " n)                             728)                                                              \n",
            "                                                                                                  \n",
            " block8_sepconv2 (SeparableConv  (None, None, None,   536536     ['block8_sepconv2_act[0][0]']    \n",
            " 2D)                            728)                                                              \n",
            "                                                                                                  \n",
            " block8_sepconv2_bn (BatchNorma  (None, None, None,   2912       ['block8_sepconv2[0][0]']        \n",
            " lization)                      728)                                                              \n",
            "                                                                                                  \n",
            " block8_sepconv3_act (Activatio  (None, None, None,   0          ['block8_sepconv2_bn[0][0]']     \n",
            " n)                             728)                                                              \n",
            "                                                                                                  \n",
            " block8_sepconv3 (SeparableConv  (None, None, None,   536536     ['block8_sepconv3_act[0][0]']    \n",
            " 2D)                            728)                                                              \n",
            "                                                                                                  \n",
            " block8_sepconv3_bn (BatchNorma  (None, None, None,   2912       ['block8_sepconv3[0][0]']        \n",
            " lization)                      728)                                                              \n",
            "                                                                                                  \n",
            " add_18 (Add)                   (None, None, None,   0           ['block8_sepconv3_bn[0][0]',     \n",
            "                                728)                              'add_17[0][0]']                 \n",
            "                                                                                                  \n",
            " block9_sepconv1_act (Activatio  (None, None, None,   0          ['add_18[0][0]']                 \n",
            " n)                             728)                                                              \n",
            "                                                                                                  \n",
            " block9_sepconv1 (SeparableConv  (None, None, None,   536536     ['block9_sepconv1_act[0][0]']    \n",
            " 2D)                            728)                                                              \n",
            "                                                                                                  \n",
            " block9_sepconv1_bn (BatchNorma  (None, None, None,   2912       ['block9_sepconv1[0][0]']        \n",
            " lization)                      728)                                                              \n",
            "                                                                                                  \n",
            " block9_sepconv2_act (Activatio  (None, None, None,   0          ['block9_sepconv1_bn[0][0]']     \n",
            " n)                             728)                                                              \n",
            "                                                                                                  \n",
            " block9_sepconv2 (SeparableConv  (None, None, None,   536536     ['block9_sepconv2_act[0][0]']    \n",
            " 2D)                            728)                                                              \n",
            "                                                                                                  \n",
            " block9_sepconv2_bn (BatchNorma  (None, None, None,   2912       ['block9_sepconv2[0][0]']        \n",
            " lization)                      728)                                                              \n",
            "                                                                                                  \n",
            " block9_sepconv3_act (Activatio  (None, None, None,   0          ['block9_sepconv2_bn[0][0]']     \n",
            " n)                             728)                                                              \n",
            "                                                                                                  \n",
            " block9_sepconv3 (SeparableConv  (None, None, None,   536536     ['block9_sepconv3_act[0][0]']    \n",
            " 2D)                            728)                                                              \n",
            "                                                                                                  \n",
            " block9_sepconv3_bn (BatchNorma  (None, None, None,   2912       ['block9_sepconv3[0][0]']        \n",
            " lization)                      728)                                                              \n",
            "                                                                                                  \n",
            " add_19 (Add)                   (None, None, None,   0           ['block9_sepconv3_bn[0][0]',     \n",
            "                                728)                              'add_18[0][0]']                 \n",
            "                                                                                                  \n",
            " block10_sepconv1_act (Activati  (None, None, None,   0          ['add_19[0][0]']                 \n",
            " on)                            728)                                                              \n",
            "                                                                                                  \n",
            " block10_sepconv1 (SeparableCon  (None, None, None,   536536     ['block10_sepconv1_act[0][0]']   \n",
            " v2D)                           728)                                                              \n",
            "                                                                                                  \n",
            " block10_sepconv1_bn (BatchNorm  (None, None, None,   2912       ['block10_sepconv1[0][0]']       \n",
            " alization)                     728)                                                              \n",
            "                                                                                                  \n",
            " block10_sepconv2_act (Activati  (None, None, None,   0          ['block10_sepconv1_bn[0][0]']    \n",
            " on)                            728)                                                              \n",
            "                                                                                                  \n",
            " block10_sepconv2 (SeparableCon  (None, None, None,   536536     ['block10_sepconv2_act[0][0]']   \n",
            " v2D)                           728)                                                              \n",
            "                                                                                                  \n",
            " block10_sepconv2_bn (BatchNorm  (None, None, None,   2912       ['block10_sepconv2[0][0]']       \n",
            " alization)                     728)                                                              \n",
            "                                                                                                  \n",
            " block10_sepconv3_act (Activati  (None, None, None,   0          ['block10_sepconv2_bn[0][0]']    \n",
            " on)                            728)                                                              \n",
            "                                                                                                  \n",
            " block10_sepconv3 (SeparableCon  (None, None, None,   536536     ['block10_sepconv3_act[0][0]']   \n",
            " v2D)                           728)                                                              \n",
            "                                                                                                  \n",
            " block10_sepconv3_bn (BatchNorm  (None, None, None,   2912       ['block10_sepconv3[0][0]']       \n",
            " alization)                     728)                                                              \n",
            "                                                                                                  \n",
            " add_20 (Add)                   (None, None, None,   0           ['block10_sepconv3_bn[0][0]',    \n",
            "                                728)                              'add_19[0][0]']                 \n",
            "                                                                                                  \n",
            " block11_sepconv1_act (Activati  (None, None, None,   0          ['add_20[0][0]']                 \n",
            " on)                            728)                                                              \n",
            "                                                                                                  \n",
            " block11_sepconv1 (SeparableCon  (None, None, None,   536536     ['block11_sepconv1_act[0][0]']   \n",
            " v2D)                           728)                                                              \n",
            "                                                                                                  \n",
            " block11_sepconv1_bn (BatchNorm  (None, None, None,   2912       ['block11_sepconv1[0][0]']       \n",
            " alization)                     728)                                                              \n",
            "                                                                                                  \n",
            " block11_sepconv2_act (Activati  (None, None, None,   0          ['block11_sepconv1_bn[0][0]']    \n",
            " on)                            728)                                                              \n",
            "                                                                                                  \n",
            " block11_sepconv2 (SeparableCon  (None, None, None,   536536     ['block11_sepconv2_act[0][0]']   \n",
            " v2D)                           728)                                                              \n",
            "                                                                                                  \n",
            " block11_sepconv2_bn (BatchNorm  (None, None, None,   2912       ['block11_sepconv2[0][0]']       \n",
            " alization)                     728)                                                              \n",
            "                                                                                                  \n",
            " block11_sepconv3_act (Activati  (None, None, None,   0          ['block11_sepconv2_bn[0][0]']    \n",
            " on)                            728)                                                              \n",
            "                                                                                                  \n",
            " block11_sepconv3 (SeparableCon  (None, None, None,   536536     ['block11_sepconv3_act[0][0]']   \n",
            " v2D)                           728)                                                              \n",
            "                                                                                                  \n",
            " block11_sepconv3_bn (BatchNorm  (None, None, None,   2912       ['block11_sepconv3[0][0]']       \n",
            " alization)                     728)                                                              \n",
            "                                                                                                  \n",
            " add_21 (Add)                   (None, None, None,   0           ['block11_sepconv3_bn[0][0]',    \n",
            "                                728)                              'add_20[0][0]']                 \n",
            "                                                                                                  \n",
            " block12_sepconv1_act (Activati  (None, None, None,   0          ['add_21[0][0]']                 \n",
            " on)                            728)                                                              \n",
            "                                                                                                  \n",
            " block12_sepconv1 (SeparableCon  (None, None, None,   536536     ['block12_sepconv1_act[0][0]']   \n",
            " v2D)                           728)                                                              \n",
            "                                                                                                  \n",
            " block12_sepconv1_bn (BatchNorm  (None, None, None,   2912       ['block12_sepconv1[0][0]']       \n",
            " alization)                     728)                                                              \n",
            "                                                                                                  \n",
            " block12_sepconv2_act (Activati  (None, None, None,   0          ['block12_sepconv1_bn[0][0]']    \n",
            " on)                            728)                                                              \n",
            "                                                                                                  \n",
            " block12_sepconv2 (SeparableCon  (None, None, None,   536536     ['block12_sepconv2_act[0][0]']   \n",
            " v2D)                           728)                                                              \n",
            "                                                                                                  \n",
            " block12_sepconv2_bn (BatchNorm  (None, None, None,   2912       ['block12_sepconv2[0][0]']       \n",
            " alization)                     728)                                                              \n",
            "                                                                                                  \n",
            " block12_sepconv3_act (Activati  (None, None, None,   0          ['block12_sepconv2_bn[0][0]']    \n",
            " on)                            728)                                                              \n",
            "                                                                                                  \n",
            " block12_sepconv3 (SeparableCon  (None, None, None,   536536     ['block12_sepconv3_act[0][0]']   \n",
            " v2D)                           728)                                                              \n",
            "                                                                                                  \n",
            " block12_sepconv3_bn (BatchNorm  (None, None, None,   2912       ['block12_sepconv3[0][0]']       \n",
            " alization)                     728)                                                              \n",
            "                                                                                                  \n",
            " add_22 (Add)                   (None, None, None,   0           ['block12_sepconv3_bn[0][0]',    \n",
            "                                728)                              'add_21[0][0]']                 \n",
            "                                                                                                  \n",
            " block13_sepconv1_act (Activati  (None, None, None,   0          ['add_22[0][0]']                 \n",
            " on)                            728)                                                              \n",
            "                                                                                                  \n",
            " block13_sepconv1 (SeparableCon  (None, None, None,   536536     ['block13_sepconv1_act[0][0]']   \n",
            " v2D)                           728)                                                              \n",
            "                                                                                                  \n",
            " block13_sepconv1_bn (BatchNorm  (None, None, None,   2912       ['block13_sepconv1[0][0]']       \n",
            " alization)                     728)                                                              \n",
            "                                                                                                  \n",
            " block13_sepconv2_act (Activati  (None, None, None,   0          ['block13_sepconv1_bn[0][0]']    \n",
            " on)                            728)                                                              \n",
            "                                                                                                  \n",
            " block13_sepconv2 (SeparableCon  (None, None, None,   752024     ['block13_sepconv2_act[0][0]']   \n",
            " v2D)                           1024)                                                             \n",
            "                                                                                                  \n",
            " block13_sepconv2_bn (BatchNorm  (None, None, None,   4096       ['block13_sepconv2[0][0]']       \n",
            " alization)                     1024)                                                             \n",
            "                                                                                                  \n",
            " conv2d_7 (Conv2D)              (None, None, None,   745472      ['add_22[0][0]']                 \n",
            "                                1024)                                                             \n",
            "                                                                                                  \n",
            " block13_pool (MaxPooling2D)    (None, None, None,   0           ['block13_sepconv2_bn[0][0]']    \n",
            "                                1024)                                                             \n",
            "                                                                                                  \n",
            " batch_normalization_7 (BatchNo  (None, None, None,   4096       ['conv2d_7[0][0]']               \n",
            " rmalization)                   1024)                                                             \n",
            "                                                                                                  \n",
            " add_23 (Add)                   (None, None, None,   0           ['block13_pool[0][0]',           \n",
            "                                1024)                             'batch_normalization_7[0][0]']  \n",
            "                                                                                                  \n",
            " block14_sepconv1 (SeparableCon  (None, None, None,   1582080    ['add_23[0][0]']                 \n",
            " v2D)                           1536)                                                             \n",
            "                                                                                                  \n",
            " block14_sepconv1_bn (BatchNorm  (None, None, None,   6144       ['block14_sepconv1[0][0]']       \n",
            " alization)                     1536)                                                             \n",
            "                                                                                                  \n",
            " block14_sepconv1_act (Activati  (None, None, None,   0          ['block14_sepconv1_bn[0][0]']    \n",
            " on)                            1536)                                                             \n",
            "                                                                                                  \n",
            " block14_sepconv2 (SeparableCon  (None, None, None,   3159552    ['block14_sepconv1_act[0][0]']   \n",
            " v2D)                           2048)                                                             \n",
            "                                                                                                  \n",
            " block14_sepconv2_bn (BatchNorm  (None, None, None,   8192       ['block14_sepconv2[0][0]']       \n",
            " alization)                     2048)                                                             \n",
            "                                                                                                  \n",
            " block14_sepconv2_act (Activati  (None, None, None,   0          ['block14_sepconv2_bn[0][0]']    \n",
            " on)                            2048)                                                             \n",
            "                                                                                                  \n",
            " global_average_pooling2d (Glob  (None, 2048)        0           ['block14_sepconv2_act[0][0]']   \n",
            " alAveragePooling2D)                                                                              \n",
            "                                                                                                  \n",
            " dense (Dense)                  (None, 5)            10245       ['global_average_pooling2d[0][0]'\n",
            "                                                                 ]                                \n",
            "                                                                                                  \n",
            "==================================================================================================\n",
            "Total params: 20,871,725\n",
            "Trainable params: 20,817,197\n",
            "Non-trainable params: 54,528\n",
            "__________________________________________________________________________________________________\n"
          ]
        }
      ]
    },
    {
      "cell_type": "code",
      "source": [
        "model_FineTune.layers"
      ],
      "metadata": {
        "colab": {
          "base_uri": "https://localhost:8080/"
        },
        "id": "O0LNIHm_b0aW",
        "outputId": "647a42c6-9088-4065-a145-0dd67d6cd008"
      },
      "execution_count": 8,
      "outputs": [
        {
          "output_type": "execute_result",
          "data": {
            "text/plain": [
              "[<keras.engine.input_layer.InputLayer at 0x7f5df49f6310>,\n",
              " <keras.layers.convolutional.conv2d.Conv2D at 0x7f5df5e0ba00>,\n",
              " <keras.layers.normalization.batch_normalization.BatchNormalization at 0x7f5df5e0ba60>,\n",
              " <keras.layers.core.activation.Activation at 0x7f5d90e12b80>,\n",
              " <keras.layers.convolutional.conv2d.Conv2D at 0x7f5d90e12a90>,\n",
              " <keras.layers.normalization.batch_normalization.BatchNormalization at 0x7f5d904c8670>,\n",
              " <keras.layers.core.activation.Activation at 0x7f5d904c84f0>,\n",
              " <keras.layers.convolutional.separable_conv2d.SeparableConv2D at 0x7f5d904c8fd0>,\n",
              " <keras.layers.normalization.batch_normalization.BatchNormalization at 0x7f5d904987f0>,\n",
              " <keras.layers.core.activation.Activation at 0x7f5d90498730>,\n",
              " <keras.layers.convolutional.separable_conv2d.SeparableConv2D at 0x7f5d90498d30>,\n",
              " <keras.layers.normalization.batch_normalization.BatchNormalization at 0x7f5d9049d520>,\n",
              " <keras.layers.convolutional.conv2d.Conv2D at 0x7f5d9049d5e0>,\n",
              " <keras.layers.pooling.max_pooling2d.MaxPooling2D at 0x7f5d9049da30>,\n",
              " <keras.layers.normalization.batch_normalization.BatchNormalization at 0x7f5d9049de50>,\n",
              " <keras.layers.merging.add.Add at 0x7f5d904a01f0>,\n",
              " <keras.layers.core.activation.Activation at 0x7f5d904a0670>,\n",
              " <keras.layers.convolutional.separable_conv2d.SeparableConv2D at 0x7f5d904a06d0>,\n",
              " <keras.layers.normalization.batch_normalization.BatchNormalization at 0x7f5d904a0fa0>,\n",
              " <keras.layers.core.activation.Activation at 0x7f5d904a05e0>,\n",
              " <keras.layers.convolutional.separable_conv2d.SeparableConv2D at 0x7f5d904a0f10>,\n",
              " <keras.layers.normalization.batch_normalization.BatchNormalization at 0x7f5d904a4d00>,\n",
              " <keras.layers.convolutional.conv2d.Conv2D at 0x7f5d904a4dc0>,\n",
              " <keras.layers.pooling.max_pooling2d.MaxPooling2D at 0x7f5d904a44c0>,\n",
              " <keras.layers.normalization.batch_normalization.BatchNormalization at 0x7f5d904ab8e0>,\n",
              " <keras.layers.merging.add.Add at 0x7f5d904ab9d0>,\n",
              " <keras.layers.core.activation.Activation at 0x7f5d904abe50>,\n",
              " <keras.layers.convolutional.separable_conv2d.SeparableConv2D at 0x7f5d904abeb0>,\n",
              " <keras.layers.normalization.batch_normalization.BatchNormalization at 0x7f5d904b17f0>,\n",
              " <keras.layers.core.activation.Activation at 0x7f5d904b1730>,\n",
              " <keras.layers.convolutional.separable_conv2d.SeparableConv2D at 0x7f5d904b1d30>,\n",
              " <keras.layers.normalization.batch_normalization.BatchNormalization at 0x7f5d904b4520>,\n",
              " <keras.layers.convolutional.conv2d.Conv2D at 0x7f5d904b45e0>,\n",
              " <keras.layers.pooling.max_pooling2d.MaxPooling2D at 0x7f5d904b4a30>,\n",
              " <keras.layers.normalization.batch_normalization.BatchNormalization at 0x7f5d904b4e50>,\n",
              " <keras.layers.merging.add.Add at 0x7f5d904b91f0>,\n",
              " <keras.layers.core.activation.Activation at 0x7f5d904b9670>,\n",
              " <keras.layers.convolutional.separable_conv2d.SeparableConv2D at 0x7f5d904b96d0>,\n",
              " <keras.layers.normalization.batch_normalization.BatchNormalization at 0x7f5d904b9fa0>,\n",
              " <keras.layers.core.activation.Activation at 0x7f5d904b95e0>,\n",
              " <keras.layers.convolutional.separable_conv2d.SeparableConv2D at 0x7f5d904b9f10>,\n",
              " <keras.layers.normalization.batch_normalization.BatchNormalization at 0x7f5d9043dd00>,\n",
              " <keras.layers.core.activation.Activation at 0x7f5d9043dc40>,\n",
              " <keras.layers.convolutional.separable_conv2d.SeparableConv2D at 0x7f5d9043ddc0>,\n",
              " <keras.layers.normalization.batch_normalization.BatchNormalization at 0x7f5d90444a30>,\n",
              " <keras.layers.merging.add.Add at 0x7f5d90444af0>,\n",
              " <keras.layers.core.activation.Activation at 0x7f5d90444f70>,\n",
              " <keras.layers.convolutional.separable_conv2d.SeparableConv2D at 0x7f5d90444ee0>,\n",
              " <keras.layers.normalization.batch_normalization.BatchNormalization at 0x7f5d90449910>,\n",
              " <keras.layers.core.activation.Activation at 0x7f5d90449850>,\n",
              " <keras.layers.convolutional.separable_conv2d.SeparableConv2D at 0x7f5d90449e50>,\n",
              " <keras.layers.normalization.batch_normalization.BatchNormalization at 0x7f5d9044d640>,\n",
              " <keras.layers.core.activation.Activation at 0x7f5d9044d580>,\n",
              " <keras.layers.convolutional.separable_conv2d.SeparableConv2D at 0x7f5d9044db80>,\n",
              " <keras.layers.normalization.batch_normalization.BatchNormalization at 0x7f5d9044d700>,\n",
              " <keras.layers.merging.add.Add at 0x7f5d90454430>,\n",
              " <keras.layers.core.activation.Activation at 0x7f5d904548b0>,\n",
              " <keras.layers.convolutional.separable_conv2d.SeparableConv2D at 0x7f5d90454910>,\n",
              " <keras.layers.normalization.batch_normalization.BatchNormalization at 0x7f5d90454820>,\n",
              " <keras.layers.core.activation.Activation at 0x7f5d90459190>,\n",
              " <keras.layers.convolutional.separable_conv2d.SeparableConv2D at 0x7f5d90459790>,\n",
              " <keras.layers.normalization.batch_normalization.BatchNormalization at 0x7f5d90459f70>,\n",
              " <keras.layers.core.activation.Activation at 0x7f5d90459310>,\n",
              " <keras.layers.convolutional.separable_conv2d.SeparableConv2D at 0x7f5d90459eb0>,\n",
              " <keras.layers.normalization.batch_normalization.BatchNormalization at 0x7f5d9045bca0>,\n",
              " <keras.layers.merging.add.Add at 0x7f5d9045bd60>,\n",
              " <keras.layers.core.activation.Activation at 0x7f5d90461220>,\n",
              " <keras.layers.convolutional.separable_conv2d.SeparableConv2D at 0x7f5d90461280>,\n",
              " <keras.layers.normalization.batch_normalization.BatchNormalization at 0x7f5d90461b80>,\n",
              " <keras.layers.core.activation.Activation at 0x7f5d90461ac0>,\n",
              " <keras.layers.convolutional.separable_conv2d.SeparableConv2D at 0x7f5d90461c40>,\n",
              " <keras.layers.normalization.batch_normalization.BatchNormalization at 0x7f5d904668b0>,\n",
              " <keras.layers.core.activation.Activation at 0x7f5d904667f0>,\n",
              " <keras.layers.convolutional.separable_conv2d.SeparableConv2D at 0x7f5d90466df0>,\n",
              " <keras.layers.normalization.batch_normalization.BatchNormalization at 0x7f5d904695e0>,\n",
              " <keras.layers.merging.add.Add at 0x7f5d904696a0>,\n",
              " <keras.layers.core.activation.Activation at 0x7f5d90469b20>,\n",
              " <keras.layers.convolutional.separable_conv2d.SeparableConv2D at 0x7f5d90469b80>,\n",
              " <keras.layers.normalization.batch_normalization.BatchNormalization at 0x7f5d9046f4c0>,\n",
              " <keras.layers.core.activation.Activation at 0x7f5d9046f400>,\n",
              " <keras.layers.convolutional.separable_conv2d.SeparableConv2D at 0x7f5d9046fa00>,\n",
              " <keras.layers.normalization.batch_normalization.BatchNormalization at 0x7f5d9046f580>,\n",
              " <keras.layers.core.activation.Activation at 0x7f5d90475130>,\n",
              " <keras.layers.convolutional.separable_conv2d.SeparableConv2D at 0x7f5d90475730>,\n",
              " <keras.layers.normalization.batch_normalization.BatchNormalization at 0x7f5d90475ee0>,\n",
              " <keras.layers.merging.add.Add at 0x7f5d90475fa0>,\n",
              " <keras.layers.core.activation.Activation at 0x7f5d90478460>,\n",
              " <keras.layers.convolutional.separable_conv2d.SeparableConv2D at 0x7f5d904784c0>,\n",
              " <keras.layers.normalization.batch_normalization.BatchNormalization at 0x7f5d90478dc0>,\n",
              " <keras.layers.core.activation.Activation at 0x7f5d90478d00>,\n",
              " <keras.layers.convolutional.separable_conv2d.SeparableConv2D at 0x7f5d90478e80>,\n",
              " <keras.layers.normalization.batch_normalization.BatchNormalization at 0x7f5d903feaf0>,\n",
              " <keras.layers.core.activation.Activation at 0x7f5d903fea30>,\n",
              " <keras.layers.convolutional.separable_conv2d.SeparableConv2D at 0x7f5d903fefa0>,\n",
              " <keras.layers.normalization.batch_normalization.BatchNormalization at 0x7f5d90403820>,\n",
              " <keras.layers.merging.add.Add at 0x7f5d904038e0>,\n",
              " <keras.layers.core.activation.Activation at 0x7f5d90403d60>,\n",
              " <keras.layers.convolutional.separable_conv2d.SeparableConv2D at 0x7f5d90403dc0>,\n",
              " <keras.layers.normalization.batch_normalization.BatchNormalization at 0x7f5d90408700>,\n",
              " <keras.layers.core.activation.Activation at 0x7f5d90408640>,\n",
              " <keras.layers.convolutional.separable_conv2d.SeparableConv2D at 0x7f5d90408c40>,\n",
              " <keras.layers.normalization.batch_normalization.BatchNormalization at 0x7f5d904087c0>,\n",
              " <keras.layers.core.activation.Activation at 0x7f5d90410370>,\n",
              " <keras.layers.convolutional.separable_conv2d.SeparableConv2D at 0x7f5d90410970>,\n",
              " <keras.layers.normalization.batch_normalization.BatchNormalization at 0x7f5d904104f0>,\n",
              " <keras.layers.merging.add.Add at 0x7f5d90413220>,\n",
              " <keras.layers.core.activation.Activation at 0x7f5d904136a0>,\n",
              " <keras.layers.convolutional.separable_conv2d.SeparableConv2D at 0x7f5d90413700>,\n",
              " <keras.layers.normalization.batch_normalization.BatchNormalization at 0x7f5d90413fd0>,\n",
              " <keras.layers.core.activation.Activation at 0x7f5d90413610>,\n",
              " <keras.layers.convolutional.separable_conv2d.SeparableConv2D at 0x7f5d90413f40>,\n",
              " <keras.layers.normalization.batch_normalization.BatchNormalization at 0x7f5d90415d30>,\n",
              " <keras.layers.core.activation.Activation at 0x7f5d90415c70>,\n",
              " <keras.layers.convolutional.separable_conv2d.SeparableConv2D at 0x7f5d90415df0>,\n",
              " <keras.layers.normalization.batch_normalization.BatchNormalization at 0x7f5d9041ea60>,\n",
              " <keras.layers.merging.add.Add at 0x7f5d9041eb20>,\n",
              " <keras.layers.core.activation.Activation at 0x7f5d9041efa0>,\n",
              " <keras.layers.convolutional.separable_conv2d.SeparableConv2D at 0x7f5d9041ef10>,\n",
              " <keras.layers.normalization.batch_normalization.BatchNormalization at 0x7f5df49f65b0>,\n",
              " <keras.layers.core.activation.Activation at 0x7f5d90423850>,\n",
              " <keras.layers.convolutional.separable_conv2d.SeparableConv2D at 0x7f5d90423e50>,\n",
              " <keras.layers.normalization.batch_normalization.BatchNormalization at 0x7f5d90427640>,\n",
              " <keras.layers.convolutional.conv2d.Conv2D at 0x7f5d90427700>,\n",
              " <keras.layers.pooling.max_pooling2d.MaxPooling2D at 0x7f5d90427b50>,\n",
              " <keras.layers.normalization.batch_normalization.BatchNormalization at 0x7f5d9042b220>,\n",
              " <keras.layers.merging.add.Add at 0x7f5d9042b310>,\n",
              " <keras.layers.convolutional.separable_conv2d.SeparableConv2D at 0x7f5d9042b700>,\n",
              " <keras.layers.normalization.batch_normalization.BatchNormalization at 0x7f5d9042bf40>,\n",
              " <keras.layers.core.activation.Activation at 0x7f5d9042be80>,\n",
              " <keras.layers.convolutional.separable_conv2d.SeparableConv2D at 0x7f5d9042bf10>,\n",
              " <keras.layers.normalization.batch_normalization.BatchNormalization at 0x7f5d9042fca0>,\n",
              " <keras.layers.core.activation.Activation at 0x7f5d9042fbe0>,\n",
              " <keras.layers.pooling.global_average_pooling2d.GlobalAveragePooling2D at 0x7f5d90436220>,\n",
              " <keras.layers.core.dense.Dense at 0x7f5d9042fd60>]"
            ]
          },
          "metadata": {},
          "execution_count": 8
        }
      ]
    },
    {
      "cell_type": "code",
      "source": [
        "len(model_FineTune.layers)"
      ],
      "metadata": {
        "colab": {
          "base_uri": "https://localhost:8080/"
        },
        "id": "CKWS0LvOb0dO",
        "outputId": "037c8fd1-a456-4b54-cc18-8e24f00241f9"
      },
      "execution_count": 9,
      "outputs": [
        {
          "output_type": "execute_result",
          "data": {
            "text/plain": [
              "134"
            ]
          },
          "metadata": {},
          "execution_count": 9
        }
      ]
    },
    {
      "cell_type": "code",
      "source": [
        "# Fine-tune the model from index 60 onwards\n",
        "\n",
        "for layer in model_FineTune.layers[:60]:\n",
        "  layer.trainable = False\n",
        "\n",
        "for layer in model_FineTune.layers[60:]:\n",
        "  layer.trainable = True\n"
      ],
      "metadata": {
        "id": "sfoO6uMQb0f1"
      },
      "execution_count": 10,
      "outputs": []
    },
    {
      "cell_type": "code",
      "source": [
        "model_FineTune.compile(loss='sparse_categorical_crossentropy', \n",
        "                 optimizer='adam', \n",
        "                 metrics=['accuracy'])\n",
        "\n",
        "callbacks_FineTune = [            \n",
        "             keras.callbacks.ModelCheckpoint(\"bestFT.h5\",\n",
        "                                             monitor='val_accuracy',\n",
        "                                             save_weights_only=True,\n",
        "                                             save_best_only=True)\n",
        "]\n",
        "\n",
        "history_FineTune = model_FineTune.fit(x = X_train_std, y = y_train, epochs=50,\n",
        "                                      validation_split=0.1, batch_size=16, callbacks=callbacks_FineTune)\n",
        "     "
      ],
      "metadata": {
        "colab": {
          "base_uri": "https://localhost:8080/"
        },
        "id": "wXSqOGofb0it",
        "outputId": "f256d593-354a-4cc6-ae31-66940fabd9d6"
      },
      "execution_count": 11,
      "outputs": [
        {
          "output_type": "stream",
          "name": "stdout",
          "text": [
            "Epoch 1/50\n",
            "23/23 [==============================] - 19s 340ms/step - loss: 0.0958 - accuracy: 0.9722 - val_loss: 1.1885 - val_accuracy: 0.6250\n",
            "Epoch 2/50\n",
            "23/23 [==============================] - 6s 274ms/step - loss: 0.0544 - accuracy: 0.9806 - val_loss: 0.6217 - val_accuracy: 0.8000\n",
            "Epoch 3/50\n",
            "23/23 [==============================] - 6s 275ms/step - loss: 0.1052 - accuracy: 0.9694 - val_loss: 1.5792 - val_accuracy: 0.9000\n",
            "Epoch 4/50\n",
            "23/23 [==============================] - 6s 255ms/step - loss: 0.1796 - accuracy: 0.9722 - val_loss: 1.2113 - val_accuracy: 0.8250\n",
            "Epoch 5/50\n",
            "23/23 [==============================] - 6s 260ms/step - loss: 0.0717 - accuracy: 0.9861 - val_loss: 1.6297 - val_accuracy: 0.7500\n",
            "Epoch 6/50\n",
            "23/23 [==============================] - 6s 259ms/step - loss: 0.0454 - accuracy: 0.9917 - val_loss: 0.4123 - val_accuracy: 0.8500\n",
            "Epoch 7/50\n",
            "23/23 [==============================] - 6s 261ms/step - loss: 0.0410 - accuracy: 0.9917 - val_loss: 0.2772 - val_accuracy: 0.8750\n",
            "Epoch 8/50\n",
            "23/23 [==============================] - 6s 264ms/step - loss: 0.0165 - accuracy: 0.9944 - val_loss: 0.3297 - val_accuracy: 0.8750\n",
            "Epoch 9/50\n",
            "23/23 [==============================] - 6s 264ms/step - loss: 0.0156 - accuracy: 0.9972 - val_loss: 0.7309 - val_accuracy: 0.8750\n",
            "Epoch 10/50\n",
            "23/23 [==============================] - 6s 261ms/step - loss: 0.0567 - accuracy: 0.9917 - val_loss: 0.7658 - val_accuracy: 0.8500\n",
            "Epoch 11/50\n",
            "23/23 [==============================] - 6s 261ms/step - loss: 0.0476 - accuracy: 0.9889 - val_loss: 0.7401 - val_accuracy: 0.8500\n",
            "Epoch 12/50\n",
            "23/23 [==============================] - 8s 361ms/step - loss: 0.0207 - accuracy: 0.9944 - val_loss: 0.2040 - val_accuracy: 0.9500\n",
            "Epoch 13/50\n",
            "23/23 [==============================] - 6s 257ms/step - loss: 0.0367 - accuracy: 0.9861 - val_loss: 0.1948 - val_accuracy: 0.9250\n",
            "Epoch 14/50\n",
            "23/23 [==============================] - 6s 257ms/step - loss: 0.0975 - accuracy: 0.9778 - val_loss: 1.1798 - val_accuracy: 0.7500\n",
            "Epoch 15/50\n",
            "23/23 [==============================] - 6s 258ms/step - loss: 0.0585 - accuracy: 0.9833 - val_loss: 2.2631 - val_accuracy: 0.7750\n",
            "Epoch 16/50\n",
            "23/23 [==============================] - 6s 260ms/step - loss: 0.1165 - accuracy: 0.9778 - val_loss: 3.8119 - val_accuracy: 0.7000\n",
            "Epoch 17/50\n",
            "23/23 [==============================] - 6s 258ms/step - loss: 0.1130 - accuracy: 0.9806 - val_loss: 1.2073 - val_accuracy: 0.8000\n",
            "Epoch 18/50\n",
            "23/23 [==============================] - 6s 258ms/step - loss: 0.1018 - accuracy: 0.9833 - val_loss: 0.3670 - val_accuracy: 0.9000\n",
            "Epoch 19/50\n",
            "23/23 [==============================] - 6s 260ms/step - loss: 0.0213 - accuracy: 0.9944 - val_loss: 0.5202 - val_accuracy: 0.8750\n",
            "Epoch 20/50\n",
            "23/23 [==============================] - 6s 260ms/step - loss: 0.0026 - accuracy: 1.0000 - val_loss: 0.5337 - val_accuracy: 0.8500\n",
            "Epoch 21/50\n",
            "23/23 [==============================] - 6s 261ms/step - loss: 0.0406 - accuracy: 0.9917 - val_loss: 0.4602 - val_accuracy: 0.8000\n",
            "Epoch 22/50\n",
            "23/23 [==============================] - 6s 260ms/step - loss: 0.0564 - accuracy: 0.9861 - val_loss: 0.2944 - val_accuracy: 0.9000\n",
            "Epoch 23/50\n",
            "23/23 [==============================] - 6s 261ms/step - loss: 0.0650 - accuracy: 0.9889 - val_loss: 0.6339 - val_accuracy: 0.8750\n",
            "Epoch 24/50\n",
            "23/23 [==============================] - 6s 261ms/step - loss: 0.0202 - accuracy: 0.9917 - val_loss: 0.5224 - val_accuracy: 0.8750\n",
            "Epoch 25/50\n",
            "23/23 [==============================] - 6s 260ms/step - loss: 0.0258 - accuracy: 0.9917 - val_loss: 0.8605 - val_accuracy: 0.8000\n",
            "Epoch 26/50\n",
            "23/23 [==============================] - 6s 259ms/step - loss: 0.0176 - accuracy: 0.9917 - val_loss: 0.5344 - val_accuracy: 0.8500\n",
            "Epoch 27/50\n",
            "23/23 [==============================] - 6s 260ms/step - loss: 0.0025 - accuracy: 1.0000 - val_loss: 0.4800 - val_accuracy: 0.8750\n",
            "Epoch 28/50\n",
            "23/23 [==============================] - 6s 260ms/step - loss: 0.0087 - accuracy: 0.9972 - val_loss: 0.4788 - val_accuracy: 0.8750\n",
            "Epoch 29/50\n",
            "23/23 [==============================] - 6s 260ms/step - loss: 0.0050 - accuracy: 1.0000 - val_loss: 0.3980 - val_accuracy: 0.9000\n",
            "Epoch 30/50\n",
            "23/23 [==============================] - 6s 260ms/step - loss: 0.0013 - accuracy: 1.0000 - val_loss: 0.3195 - val_accuracy: 0.9250\n",
            "Epoch 31/50\n",
            "23/23 [==============================] - 6s 260ms/step - loss: 0.0013 - accuracy: 1.0000 - val_loss: 0.3170 - val_accuracy: 0.9250\n",
            "Epoch 32/50\n",
            "23/23 [==============================] - 6s 260ms/step - loss: 0.0015 - accuracy: 1.0000 - val_loss: 0.3120 - val_accuracy: 0.9250\n",
            "Epoch 33/50\n",
            "23/23 [==============================] - 6s 260ms/step - loss: 4.2814e-04 - accuracy: 1.0000 - val_loss: 0.3129 - val_accuracy: 0.9250\n",
            "Epoch 34/50\n",
            "23/23 [==============================] - 6s 260ms/step - loss: 0.0013 - accuracy: 1.0000 - val_loss: 0.3076 - val_accuracy: 0.9000\n",
            "Epoch 35/50\n",
            "23/23 [==============================] - 6s 260ms/step - loss: 0.0025 - accuracy: 1.0000 - val_loss: 0.3080 - val_accuracy: 0.9250\n",
            "Epoch 36/50\n",
            "23/23 [==============================] - 6s 260ms/step - loss: 0.0110 - accuracy: 0.9972 - val_loss: 0.2372 - val_accuracy: 0.9500\n",
            "Epoch 37/50\n",
            "23/23 [==============================] - 6s 260ms/step - loss: 0.0331 - accuracy: 0.9944 - val_loss: 0.5978 - val_accuracy: 0.8250\n",
            "Epoch 38/50\n",
            "23/23 [==============================] - 6s 261ms/step - loss: 0.0322 - accuracy: 0.9861 - val_loss: 0.3086 - val_accuracy: 0.9000\n",
            "Epoch 39/50\n",
            "23/23 [==============================] - 6s 260ms/step - loss: 0.0348 - accuracy: 0.9917 - val_loss: 0.6942 - val_accuracy: 0.9250\n",
            "Epoch 40/50\n",
            "23/23 [==============================] - 6s 260ms/step - loss: 0.0105 - accuracy: 1.0000 - val_loss: 0.6153 - val_accuracy: 0.9250\n",
            "Epoch 41/50\n",
            "23/23 [==============================] - 6s 260ms/step - loss: 0.0060 - accuracy: 0.9972 - val_loss: 0.3500 - val_accuracy: 0.9250\n",
            "Epoch 42/50\n",
            "23/23 [==============================] - 6s 261ms/step - loss: 0.0021 - accuracy: 1.0000 - val_loss: 0.2597 - val_accuracy: 0.9250\n",
            "Epoch 43/50\n",
            "23/23 [==============================] - 6s 260ms/step - loss: 0.0457 - accuracy: 0.9889 - val_loss: 0.4887 - val_accuracy: 0.8750\n",
            "Epoch 44/50\n",
            "23/23 [==============================] - 6s 261ms/step - loss: 0.1866 - accuracy: 0.9556 - val_loss: 2.4789 - val_accuracy: 0.6250\n",
            "Epoch 45/50\n",
            "23/23 [==============================] - 6s 259ms/step - loss: 0.1023 - accuracy: 0.9750 - val_loss: 1.5900 - val_accuracy: 0.7500\n",
            "Epoch 46/50\n",
            "23/23 [==============================] - 6s 260ms/step - loss: 0.0422 - accuracy: 0.9944 - val_loss: 0.6076 - val_accuracy: 0.8000\n",
            "Epoch 47/50\n",
            "23/23 [==============================] - 6s 260ms/step - loss: 0.0087 - accuracy: 0.9972 - val_loss: 0.3892 - val_accuracy: 0.9000\n",
            "Epoch 48/50\n",
            "23/23 [==============================] - 6s 260ms/step - loss: 0.0015 - accuracy: 1.0000 - val_loss: 0.3175 - val_accuracy: 0.9000\n",
            "Epoch 49/50\n",
            "23/23 [==============================] - 6s 260ms/step - loss: 0.0054 - accuracy: 0.9972 - val_loss: 0.4770 - val_accuracy: 0.8000\n",
            "Epoch 50/50\n",
            "23/23 [==============================] - 6s 259ms/step - loss: 0.0225 - accuracy: 0.9944 - val_loss: 0.4010 - val_accuracy: 0.8750\n"
          ]
        }
      ]
    },
    {
      "cell_type": "code",
      "source": [
        "keys = ['accuracy', 'val_accuracy']\n",
        "progress = {k:v for k,v in history_FineTune.history.items() if k in keys}\n",
        "\n",
        "import pandas as pd\n",
        "pd.DataFrame(progress).plot()\n",
        "\n",
        "plt.xlabel(\"epochs\")\n",
        "plt.ylabel(\"accuracy\")\n",
        "\n",
        "plt.grid(True)\n",
        "plt.show()"
      ],
      "metadata": {
        "colab": {
          "base_uri": "https://localhost:8080/",
          "height": 279
        },
        "id": "m-X22gxkb0lm",
        "outputId": "991752b0-60f7-4557-a893-fdcfe010f860"
      },
      "execution_count": 12,
      "outputs": [
        {
          "output_type": "display_data",
          "data": {
            "text/plain": [
              "<Figure size 432x288 with 1 Axes>"
            ],
            "image/png": "[encoded data removed]"
          },
          "metadata": {
            "needs_background": "light"
          }
        }
      ]
    },
    {
      "cell_type": "code",
      "source": [
        "testLoss_FineTune, testAccuracy_FineTune = model_FineTune.evaluate(x = X_test_std, y = y_test)\n",
        "print(\"Test-loss: %f, Test-accuracy: %f\" % (testLoss_FineTune, testAccuracy_FineTune))"
      ],
      "metadata": {
        "colab": {
          "base_uri": "https://localhost:8080/"
        },
        "id": "6u5mwc1cb0oF",
        "outputId": "72ef469e-1a5a-4e38-e370-de747f00bf85"
      },
      "execution_count": 13,
      "outputs": [
        {
          "output_type": "stream",
          "name": "stdout",
          "text": [
            "4/4 [==============================] - 2s 295ms/step - loss: 0.7292 - accuracy: 0.8100\n",
            "Test-loss: 0.729201, Test-accuracy: 0.810000\n"
          ]
        }
      ]
    },
    {
      "cell_type": "code",
      "source": [
        "model_FineTune.load_weights(\"bestFT.h5\")\n",
        "\n",
        "testLoss_FineTune, testAccuracy_FineTune = model_FineTune.evaluate(x = X_test_std, y = y_test)\n",
        "\n",
        "print(\"Test-loss: %f, Test-accuracy: %f\" % (testLoss_FineTune, testAccuracy_FineTune))"
      ],
      "metadata": {
        "colab": {
          "base_uri": "https://localhost:8080/"
        },
        "id": "Sj7p9tFpb0rW",
        "outputId": "fde4a2de-0ef4-43be-fdbb-0d9966a18792"
      },
      "execution_count": 14,
      "outputs": [
        {
          "output_type": "stream",
          "name": "stdout",
          "text": [
            "4/4 [==============================] - 1s 172ms/step - loss: 0.5235 - accuracy: 0.8300\n",
            "Test-loss: 0.523491, Test-accuracy: 0.830000\n"
          ]
        }
      ]
    },
    {
      "cell_type": "code",
      "source": [
        "cProba = model_FineTune.predict(X_test_std[:1])\n",
        "\n",
        "print(cProba)"
      ],
      "metadata": {
        "colab": {
          "base_uri": "https://localhost:8080/"
        },
        "id": "J6idNRt1b0v4",
        "outputId": "046b6346-7896-4d2b-b664-d097aec06ff0"
      },
      "execution_count": 15,
      "outputs": [
        {
          "output_type": "stream",
          "name": "stdout",
          "text": [
            "1/1 [==============================] - 1s 843ms/step\n",
            "[[6.7212915e-09 3.6387526e-08 1.0000000e+00 1.1684360e-08 2.4180835e-10]]\n"
          ]
        }
      ]
    },
    {
      "cell_type": "code",
      "source": [
        "cLabel = np.argmax(cProba, axis=-1) \n",
        "\n",
        "print(cLabel)"
      ],
      "metadata": {
        "colab": {
          "base_uri": "https://localhost:8080/"
        },
        "id": "zT8OyyStdoCj",
        "outputId": "50c6ae8f-f6e8-42a9-a9d6-3ffccc698773"
      },
      "execution_count": 16,
      "outputs": [
        {
          "output_type": "stream",
          "name": "stdout",
          "text": [
            "[2]\n"
          ]
        }
      ]
    },
    {
      "cell_type": "code",
      "source": [
        "print(y_test[:1])"
      ],
      "metadata": {
        "colab": {
          "base_uri": "https://localhost:8080/"
        },
        "id": "n25cV-vUdoFt",
        "outputId": "5835b703-26f6-4938-fd06-453e89fecaa9"
      },
      "execution_count": 17,
      "outputs": [
        {
          "output_type": "stream",
          "name": "stdout",
          "text": [
            "[2]\n"
          ]
        }
      ]
    },
    {
      "cell_type": "code",
      "source": [
        "# Saves the best model obtained\n",
        "model_FineTune.save('/content/drive/MyDrive/Models/02_Xception_FineTuned_Best_Model.h5')\n",
        "     "
      ],
      "metadata": {
        "id": "HN-O_UvHdoJA"
      },
      "execution_count": 18,
      "outputs": []
    }
  ]
}