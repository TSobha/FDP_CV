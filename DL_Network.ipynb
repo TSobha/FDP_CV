{
  "nbformat": 4,
  "nbformat_minor": 0,
  "metadata": {
    "colab": {
      "provenance": [],
      "mount_file_id": "1rndQLWNQ5ucgR-F1roDCdsb6_YBciLc2",
      "authorship_tag": "ABX9TyN1lAVVMdDDlIcrlvZQBcXw",
      "include_colab_link": true
    },
    "kernelspec": {
      "name": "python3",
      "display_name": "Python 3"
    },
    "language_info": {
      "name": "python"
    },
    "accelerator": "GPU",
    "gpuClass": "standard"
  },
  "cells": [
    {
      "cell_type": "markdown",
      "metadata": {
        "id": "view-in-github",
        "colab_type": "text"
      },
      "source": [
        "<a href=\"https://colab.research.google.com/github/TSobha/FDP_CV/blob/main/DL_Network.ipynb\" target=\"_parent\"><img src=\"https://colab.research.google.com/assets/colab-badge.svg\" alt=\"Open In Colab\"/></a>"
      ]
    },
    {
      "cell_type": "markdown",
      "source": [
        "Deep Neural Network"
      ],
      "metadata": {
        "id": "d1Y77IiJXFPx"
      }
    },
    {
      "cell_type": "markdown",
      "source": [
        "Connect colab with drive. Mount. drive- mydrive - FDP-CV"
      ],
      "metadata": {
        "id": "bVEaMgUcXUBr"
      }
    },
    {
      "cell_type": "code",
      "execution_count": 1,
      "metadata": {
        "id": "843VwdY0W7qN"
      },
      "outputs": [],
      "source": [
        "import os"
      ]
    },
    {
      "cell_type": "markdown",
      "source": [
        "Change directory to the copied path"
      ],
      "metadata": {
        "id": "9xCu3xHrZmJb"
      }
    },
    {
      "cell_type": "code",
      "source": [
        "os.chdir('/content/drive/MyDrive/FDP-CV')"
      ],
      "metadata": {
        "id": "5GyfHl5CZqss"
      },
      "execution_count": 3,
      "outputs": []
    },
    {
      "cell_type": "code",
      "source": [
        "Present working directory"
      ],
      "metadata": {
        "id": "wsm0DJReZvYt"
      },
      "execution_count": null,
      "outputs": []
    },
    {
      "cell_type": "code",
      "source": [
        "pwd"
      ],
      "metadata": {
        "colab": {
          "base_uri": "https://localhost:8080/",
          "height": 35
        },
        "id": "tXwlazZnZ5g9",
        "outputId": "dc6e864f-cfbb-4b43-b1e9-ece33d02146a"
      },
      "execution_count": 4,
      "outputs": [
        {
          "output_type": "execute_result",
          "data": {
            "text/plain": [
              "'/content/drive/MyDrive/FDP-CV'"
            ],
            "application/vnd.google.colaboratory.intrinsic+json": {
              "type": "string"
            }
          },
          "metadata": {},
          "execution_count": 4
        }
      ]
    },
    {
      "cell_type": "markdown",
      "source": [
        "Deep neural network for classification\n",
        "<br>\n",
        "1 input layer, 2 hidden layers and 1 output layer"
      ],
      "metadata": {
        "id": "TTDqHr1aahws"
      }
    },
    {
      "cell_type": "markdown",
      "source": [
        "Import packages"
      ],
      "metadata": {
        "id": "mEFA_xPSav8G"
      }
    },
    {
      "cell_type": "code",
      "source": [
        "import tensorflow as tf"
      ],
      "metadata": {
        "id": "DtiEgg-zaibo"
      },
      "execution_count": 5,
      "outputs": []
    },
    {
      "cell_type": "code",
      "source": [
        "mnist_data = tf.keras.datasets.mnist"
      ],
      "metadata": {
        "id": "PEUu3c66bTlT"
      },
      "execution_count": 6,
      "outputs": []
    },
    {
      "cell_type": "markdown",
      "source": [
        "Store training and testing data"
      ],
      "metadata": {
        "id": "oMOMjEz9clXx"
      }
    },
    {
      "cell_type": "code",
      "source": [
        "(X_train, y_train),(X_test, y_test) = mnist_data.load_data()"
      ],
      "metadata": {
        "colab": {
          "base_uri": "https://localhost:8080/"
        },
        "id": "nyGxT8rhcFoF",
        "outputId": "dd974eff-05e5-458c-8217-7a454ab1f5d5"
      },
      "execution_count": 7,
      "outputs": [
        {
          "output_type": "stream",
          "name": "stdout",
          "text": [
            "Downloading data from https://storage.googleapis.com/tensorflow/tf-keras-datasets/mnist.npz\n",
            "11490434/11490434 [==============================] - 2s 0us/step\n"
          ]
        }
      ]
    },
    {
      "cell_type": "markdown",
      "source": [
        "EDA (Exploatary Data Analysis)\n",
        "<br>\n",
        "Study the data"
      ],
      "metadata": {
        "id": "oJVeoG9WdNws"
      }
    },
    {
      "cell_type": "code",
      "source": [
        "X_train.shape"
      ],
      "metadata": {
        "colab": {
          "base_uri": "https://localhost:8080/"
        },
        "id": "DcD2QpuTdUSf",
        "outputId": "fda47e67-df0f-44e1-e891-53c703fc2a76"
      },
      "execution_count": 8,
      "outputs": [
        {
          "output_type": "execute_result",
          "data": {
            "text/plain": [
              "(60000, 28, 28)"
            ]
          },
          "metadata": {},
          "execution_count": 8
        }
      ]
    },
    {
      "cell_type": "code",
      "source": [
        "y_train.shape"
      ],
      "metadata": {
        "colab": {
          "base_uri": "https://localhost:8080/"
        },
        "id": "cIOL3an5dgh4",
        "outputId": "beb80da7-3337-41da-e278-71205f956b87"
      },
      "execution_count": 9,
      "outputs": [
        {
          "output_type": "execute_result",
          "data": {
            "text/plain": [
              "(60000,)"
            ]
          },
          "metadata": {},
          "execution_count": 9
        }
      ]
    },
    {
      "cell_type": "code",
      "source": [
        "X_test.shape"
      ],
      "metadata": {
        "colab": {
          "base_uri": "https://localhost:8080/"
        },
        "id": "3e3oyLuWdml3",
        "outputId": "42b192fc-df5b-49f6-e528-94f2ec938c69"
      },
      "execution_count": 10,
      "outputs": [
        {
          "output_type": "execute_result",
          "data": {
            "text/plain": [
              "(10000, 28, 28)"
            ]
          },
          "metadata": {},
          "execution_count": 10
        }
      ]
    },
    {
      "cell_type": "code",
      "source": [
        "y_test.shape"
      ],
      "metadata": {
        "colab": {
          "base_uri": "https://localhost:8080/"
        },
        "id": "_asOP5b8dplg",
        "outputId": "d9045f55-f4b5-4617-aac4-5d393bb9e8d0"
      },
      "execution_count": 11,
      "outputs": [
        {
          "output_type": "execute_result",
          "data": {
            "text/plain": [
              "(10000,)"
            ]
          },
          "metadata": {},
          "execution_count": 11
        }
      ]
    },
    {
      "cell_type": "code",
      "source": [
        "y_train[0]"
      ],
      "metadata": {
        "colab": {
          "base_uri": "https://localhost:8080/"
        },
        "id": "P_5Mf1H5dy67",
        "outputId": "a8e18889-6b91-4052-ea88-b85d4b985b86"
      },
      "execution_count": 12,
      "outputs": [
        {
          "output_type": "execute_result",
          "data": {
            "text/plain": [
              "5"
            ]
          },
          "metadata": {},
          "execution_count": 12
        }
      ]
    },
    {
      "cell_type": "markdown",
      "source": [
        "For visualisation of image, we can use matplotlib"
      ],
      "metadata": {
        "id": "XOJ0MZ0geSG8"
      }
    },
    {
      "cell_type": "code",
      "source": [
        "import matplotlib.pyplot as plt"
      ],
      "metadata": {
        "id": "XCWcJTH7eZwG"
      },
      "execution_count": 14,
      "outputs": []
    },
    {
      "cell_type": "markdown",
      "source": [
        "Visualise image in X_train[0]"
      ],
      "metadata": {
        "id": "shptc3yweqCg"
      }
    },
    {
      "cell_type": "code",
      "source": [
        "plt.imshow(X_train[0], cmap=\"binary\")\n",
        "plt.show"
      ],
      "metadata": {
        "colab": {
          "base_uri": "https://localhost:8080/",
          "height": 282
        },
        "id": "KHHyo9H5evFn",
        "outputId": "63d688ac-b61f-4006-8a3c-5c85a08f68ac"
      },
      "execution_count": 23,
      "outputs": [
        {
          "output_type": "execute_result",
          "data": {
            "text/plain": [
              "<function matplotlib.pyplot.show(*args, **kw)>"
            ]
          },
          "metadata": {},
          "execution_count": 23
        },
        {
          "output_type": "display_data",
          "data": {
            "text/plain": [
              "<Figure size 432x288 with 1 Axes>"
            ],
            "image/png": "[encoded data removed]"
          },
          "metadata": {
            "needs_background": "light"
          }
        }
      ]
    },
    {
      "cell_type": "code",
      "source": [
        "y_train[0]"
      ],
      "metadata": {
        "colab": {
          "base_uri": "https://localhost:8080/"
        },
        "id": "ZlpEc-QAfbDT",
        "outputId": "4b8dbbdd-41f6-4762-f28b-c6dfde3bfcbd"
      },
      "execution_count": 22,
      "outputs": [
        {
          "output_type": "execute_result",
          "data": {
            "text/plain": [
              "5"
            ]
          },
          "metadata": {},
          "execution_count": 22
        }
      ]
    },
    {
      "cell_type": "code",
      "source": [
        "import seaborn as sns"
      ],
      "metadata": {
        "id": "cpDu4anYfrKH"
      },
      "execution_count": 24,
      "outputs": []
    },
    {
      "cell_type": "markdown",
      "source": [
        "Annot as true to see the pixel values"
      ],
      "metadata": {
        "id": "bYZPdGKDgNWa"
      }
    },
    {
      "cell_type": "code",
      "source": [
        "plt.figure(figsize = (15,15))\n",
        "sns.heatmap(X_train[0], annot = True, cmap = 'binary')"
      ],
      "metadata": {
        "colab": {
          "base_uri": "https://localhost:8080/",
          "height": 880
        },
        "id": "_qUn0E-Wf_Eh",
        "outputId": "c9c49a5f-c307-41bf-8f9a-7ea8d108b597"
      },
      "execution_count": 25,
      "outputs": [
        {
          "output_type": "execute_result",
          "data": {
            "text/plain": [
              "<matplotlib.axes._subplots.AxesSubplot at 0x7fd80741df10>"
            ]
          },
          "metadata": {},
          "execution_count": 25
        },
        {
          "output_type": "display_data",
          "data": {
            "text/plain": [
              "<Figure size 1080x1080 with 2 Axes>"
            ],
            "image/png": "[encoded data removed]"
          },
          "metadata": {
            "needs_background": "light"
          }
        }
      ]
    },
    {
      "cell_type": "markdown",
      "source": [
        "Normalising valuus to the range [0,1] by dividing by 255"
      ],
      "metadata": {
        "id": "g664LLQcmtd3"
      }
    },
    {
      "cell_type": "code",
      "source": [
        "X_train = X_train/255\n",
        "X_test = X_test/255"
      ],
      "metadata": {
        "id": "Ti8YDAWPldq5"
      },
      "execution_count": 26,
      "outputs": []
    },
    {
      "cell_type": "markdown",
      "source": [
        "Training set and Validation set during training itself\n",
        "<br>\n",
        "X_train = Training set + Validation set\n",
        "<br>\n",
        "60000 = 55000 + 5000"
      ],
      "metadata": {
        "id": "Fai3vofFlwvO"
      }
    },
    {
      "cell_type": "markdown",
      "source": [
        "Splitting the array X_train upto 1st 5000 and the rest"
      ],
      "metadata": {
        "id": "Zgwgd6N_mSTz"
      }
    },
    {
      "cell_type": "code",
      "source": [
        "X_valid, X_train = X_train [:5000], X_train [5000:]\n",
        "y_valid, y_train = y_train [:5000], y_train [5000:]"
      ],
      "metadata": {
        "id": "DvlVjVpUmIXG"
      },
      "execution_count": 27,
      "outputs": []
    },
    {
      "cell_type": "code",
      "source": [
        "X_train.shape"
      ],
      "metadata": {
        "colab": {
          "base_uri": "https://localhost:8080/"
        },
        "id": "YTQfoX1Vmy-W",
        "outputId": "4b61641f-aac2-4341-cd96-f8273515a31f"
      },
      "execution_count": 28,
      "outputs": [
        {
          "output_type": "execute_result",
          "data": {
            "text/plain": [
              "(55000, 28, 28)"
            ]
          },
          "metadata": {},
          "execution_count": 28
        }
      ]
    },
    {
      "cell_type": "markdown",
      "source": [
        "Visualising after normalisation"
      ],
      "metadata": {
        "id": "M_BD_T8InX00"
      }
    },
    {
      "cell_type": "code",
      "source": [
        "plt.figure(figsize = (15,15))\n",
        "sns.heatmap(X_train[0], annot = True, cmap = 'binary')"
      ],
      "metadata": {
        "colab": {
          "base_uri": "https://localhost:8080/",
          "height": 880
        },
        "id": "WZNm4GwlnNmS",
        "outputId": "e92ff4a8-479f-43c4-d0e6-e28ce8c38f50"
      },
      "execution_count": 29,
      "outputs": [
        {
          "output_type": "execute_result",
          "data": {
            "text/plain": [
              "<matplotlib.axes._subplots.AxesSubplot at 0x7fd80751e670>"
            ]
          },
          "metadata": {},
          "execution_count": 29
        },
        {
          "output_type": "display_data",
          "data": {
            "text/plain": [
              "<Figure size 1080x1080 with 2 Axes>"
            ],
            "image/png": "[encoded data removed]"
          },
          "metadata": {
            "needs_background": "light"
          }
        }
      ]
    },
    {
      "cell_type": "markdown",
      "source": [
        "Hyperparameters\n",
        "<br>\n",
        "No of neurons in input layer 28*28\n",
        "<br>\n",
        "no of neurons in first hidden layer = 300\n",
        "<br>\n",
        "no of neurons in first second layer = 100\n",
        "<br>\n",
        "no of neurons in output layer = 10"
      ],
      "metadata": {
        "id": "d1J26oFFpFll"
      }
    },
    {
      "cell_type": "code",
      "source": [
        "LAYERS = [tf.keras.layers.Flatten (input_shape=[28,28], name = \"inputlayer\"),\n",
        "          tf.keras.layers.Dense (300, activation = 'relu', name = \"hiddenlayer1\"),\n",
        "          tf.keras.layers.Dense (100, activation = 'relu', name = \"hiddenlayer2\"),\n",
        "          tf.keras.layers.Dense (10, activation = 'softmax', name = \"outputlayer\")\n",
        "          ]"
      ],
      "metadata": {
        "id": "WTdbWG89ndn0"
      },
      "execution_count": 31,
      "outputs": []
    },
    {
      "cell_type": "markdown",
      "source": [
        "Create Model\n",
        "<br>\n",
        "Sequential model"
      ],
      "metadata": {
        "id": "v9wYGvA3sC9m"
      }
    },
    {
      "cell_type": "code",
      "source": [
        "model1 = tf.keras.models.Sequential (LAYERS)"
      ],
      "metadata": {
        "id": "nTDZ-2g6rRDI"
      },
      "execution_count": 32,
      "outputs": []
    },
    {
      "cell_type": "markdown",
      "source": [
        "In model summary\n",
        "<br>\n",
        "Parameters are the number of weights and bias\n",
        "<br> \n",
        "Dense connection means fully connected \n",
        "<br> \n",
        "28 * 28 = 784\n",
        "<br>\n",
        "784 * 300 = 235200 + 300 (bias)\n",
        "<br>\n",
        "300 * 100 = 30000 + 100 (bias)\n",
        "<br>\n",
        "None is the batch size"
      ],
      "metadata": {
        "id": "6H-dgk9YtUau"
      }
    },
    {
      "cell_type": "code",
      "source": [
        "model1.summary()"
      ],
      "metadata": {
        "colab": {
          "base_uri": "https://localhost:8080/"
        },
        "id": "GQxrKhWOsWaC",
        "outputId": "46122293-b4f3-435a-bd19-49e71f8b3b89"
      },
      "execution_count": 33,
      "outputs": [
        {
          "output_type": "stream",
          "name": "stdout",
          "text": [
            "Model: \"sequential\"\n",
            "_________________________________________________________________\n",
            " Layer (type)                Output Shape              Param #   \n",
            "=================================================================\n",
            " inputlayer (Flatten)        (None, 784)               0         \n",
            "                                                                 \n",
            " hiddenlayer1 (Dense)        (None, 300)               235500    \n",
            "                                                                 \n",
            " hiddenlayer2 (Dense)        (None, 100)               30100     \n",
            "                                                                 \n",
            " outputlayer (Dense)         (None, 10)                1010      \n",
            "                                                                 \n",
            "=================================================================\n",
            "Total params: 266,610\n",
            "Trainable params: 266,610\n",
            "Non-trainable params: 0\n",
            "_________________________________________________________________\n"
          ]
        }
      ]
    },
    {
      "cell_type": "markdown",
      "source": [
        "Set Hyper parameter\n",
        "<br>\n",
        "Loss funciton - Sparse Categorical Cross entropy \n",
        "<br>\n",
        "for multi class classification\n",
        "<br>\n",
        "Optimiser - Adam, not gradient descent "
      ],
      "metadata": {
        "id": "W0R_E_eUuRWZ"
      }
    },
    {
      "cell_type": "code",
      "source": [
        "LOSS_FUNCTION = \"sparse_categorical_crossentropy\"\n",
        "OPTIMIZER = \"adam\"\n",
        "METRICS = [\"accuracy\"]"
      ],
      "metadata": {
        "id": "q3Nz7i4XuJWa"
      },
      "execution_count": 34,
      "outputs": []
    },
    {
      "cell_type": "markdown",
      "source": [
        "Compiling the model"
      ],
      "metadata": {
        "id": "ZDsUBRLAu2xn"
      }
    },
    {
      "cell_type": "markdown",
      "source": [
        "We can design our own loss funciton\n",
        "<br>\n",
        "We can given more than one evaluation metrics"
      ],
      "metadata": {
        "id": "TvCoKesPvR8N"
      }
    },
    {
      "cell_type": "code",
      "source": [
        "model1.compile(loss=LOSS_FUNCTION, optimizer = OPTIMIZER, metrics = METRICS)"
      ],
      "metadata": {
        "id": "7A1pJ6bVu4oe"
      },
      "execution_count": 35,
      "outputs": []
    },
    {
      "cell_type": "markdown",
      "source": [
        "We can access every layer"
      ],
      "metadata": {
        "id": "puiQR_Zfvk5M"
      }
    },
    {
      "cell_type": "code",
      "source": [
        "model1.layers"
      ],
      "metadata": {
        "colab": {
          "base_uri": "https://localhost:8080/"
        },
        "id": "FBC183L0vnKN",
        "outputId": "ea5bb2b4-f1a9-45b2-9946-d37edf8c00cf"
      },
      "execution_count": 36,
      "outputs": [
        {
          "output_type": "execute_result",
          "data": {
            "text/plain": [
              "[<keras.layers.reshaping.flatten.Flatten at 0x7fd8004ea3d0>,\n",
              " <keras.layers.core.dense.Dense at 0x7fd8004ea0a0>,\n",
              " <keras.layers.core.dense.Dense at 0x7fd8004ea100>,\n",
              " <keras.layers.core.dense.Dense at 0x7fd8075f51f0>]"
            ]
          },
          "metadata": {},
          "execution_count": 36
        }
      ]
    },
    {
      "cell_type": "code",
      "source": [
        "model1.layers[0]"
      ],
      "metadata": {
        "colab": {
          "base_uri": "https://localhost:8080/"
        },
        "id": "gZ4Lh4nUxX4I",
        "outputId": "eec00d2a-1f92-4b65-f60a-34df5aaf8708"
      },
      "execution_count": 37,
      "outputs": [
        {
          "output_type": "execute_result",
          "data": {
            "text/plain": [
              "<keras.layers.reshaping.flatten.Flatten at 0x7fd8004ea3d0>"
            ]
          },
          "metadata": {},
          "execution_count": 37
        }
      ]
    },
    {
      "cell_type": "code",
      "source": [
        "model1.layers[0].name"
      ],
      "metadata": {
        "colab": {
          "base_uri": "https://localhost:8080/",
          "height": 35
        },
        "id": "s2vIs3O3xnP0",
        "outputId": "459c659a-4143-4f73-95d2-f4ee2ce9fcd5"
      },
      "execution_count": 38,
      "outputs": [
        {
          "output_type": "execute_result",
          "data": {
            "text/plain": [
              "'inputlayer'"
            ],
            "application/vnd.google.colaboratory.intrinsic+json": {
              "type": "string"
            }
          },
          "metadata": {},
          "execution_count": 38
        }
      ]
    },
    {
      "cell_type": "code",
      "source": [
        "hidden1 = model1.layers[1]"
      ],
      "metadata": {
        "id": "ePhO3b9rxsPD"
      },
      "execution_count": 39,
      "outputs": []
    },
    {
      "cell_type": "code",
      "source": [
        "w,b = hidden1.get_weights()"
      ],
      "metadata": {
        "id": "U_i7ojRCyKa9"
      },
      "execution_count": 40,
      "outputs": []
    },
    {
      "cell_type": "code",
      "source": [
        "w # weight (initial weights)"
      ],
      "metadata": {
        "colab": {
          "base_uri": "https://localhost:8080/"
        },
        "id": "xULhf_HAySFK",
        "outputId": "5883c46d-9274-40f7-f5ce-33c015aa09b8"
      },
      "execution_count": 41,
      "outputs": [
        {
          "output_type": "execute_result",
          "data": {
            "text/plain": [
              "array([[-0.05298884, -0.07061071, -0.05815501, ...,  0.0739332 ,\n",
              "        -0.02955786,  0.05365245],\n",
              "       [ 0.07077226, -0.0552278 , -0.04288378, ...,  0.02814396,\n",
              "        -0.02708491, -0.00225544],\n",
              "       [ 0.04798411, -0.00825376,  0.0592946 , ..., -0.068305  ,\n",
              "         0.03409749,  0.05707958],\n",
              "       ...,\n",
              "       [ 0.05602595,  0.04156533,  0.01183922, ..., -0.06713317,\n",
              "        -0.02402344,  0.01154679],\n",
              "       [ 0.06772676,  0.07322635,  0.04471908, ...,  0.07364087,\n",
              "        -0.00106088, -0.04511127],\n",
              "       [-0.01838334,  0.03486088, -0.02358171, ...,  0.02531169,\n",
              "         0.0590241 ,  0.06999104]], dtype=float32)"
            ]
          },
          "metadata": {},
          "execution_count": 41
        }
      ]
    },
    {
      "cell_type": "code",
      "source": [
        "b # Initially bias = 0"
      ],
      "metadata": {
        "colab": {
          "base_uri": "https://localhost:8080/"
        },
        "id": "wKTtRj8NyqBB",
        "outputId": "6b23819f-9975-413a-e8a8-53d39d58e19f"
      },
      "execution_count": 42,
      "outputs": [
        {
          "output_type": "execute_result",
          "data": {
            "text/plain": [
              "array([0., 0., 0., 0., 0., 0., 0., 0., 0., 0., 0., 0., 0., 0., 0., 0., 0.,\n",
              "       0., 0., 0., 0., 0., 0., 0., 0., 0., 0., 0., 0., 0., 0., 0., 0., 0.,\n",
              "       0., 0., 0., 0., 0., 0., 0., 0., 0., 0., 0., 0., 0., 0., 0., 0., 0.,\n",
              "       0., 0., 0., 0., 0., 0., 0., 0., 0., 0., 0., 0., 0., 0., 0., 0., 0.,\n",
              "       0., 0., 0., 0., 0., 0., 0., 0., 0., 0., 0., 0., 0., 0., 0., 0., 0.,\n",
              "       0., 0., 0., 0., 0., 0., 0., 0., 0., 0., 0., 0., 0., 0., 0., 0., 0.,\n",
              "       0., 0., 0., 0., 0., 0., 0., 0., 0., 0., 0., 0., 0., 0., 0., 0., 0.,\n",
              "       0., 0., 0., 0., 0., 0., 0., 0., 0., 0., 0., 0., 0., 0., 0., 0., 0.,\n",
              "       0., 0., 0., 0., 0., 0., 0., 0., 0., 0., 0., 0., 0., 0., 0., 0., 0.,\n",
              "       0., 0., 0., 0., 0., 0., 0., 0., 0., 0., 0., 0., 0., 0., 0., 0., 0.,\n",
              "       0., 0., 0., 0., 0., 0., 0., 0., 0., 0., 0., 0., 0., 0., 0., 0., 0.,\n",
              "       0., 0., 0., 0., 0., 0., 0., 0., 0., 0., 0., 0., 0., 0., 0., 0., 0.,\n",
              "       0., 0., 0., 0., 0., 0., 0., 0., 0., 0., 0., 0., 0., 0., 0., 0., 0.,\n",
              "       0., 0., 0., 0., 0., 0., 0., 0., 0., 0., 0., 0., 0., 0., 0., 0., 0.,\n",
              "       0., 0., 0., 0., 0., 0., 0., 0., 0., 0., 0., 0., 0., 0., 0., 0., 0.,\n",
              "       0., 0., 0., 0., 0., 0., 0., 0., 0., 0., 0., 0., 0., 0., 0., 0., 0.,\n",
              "       0., 0., 0., 0., 0., 0., 0., 0., 0., 0., 0., 0., 0., 0., 0., 0., 0.,\n",
              "       0., 0., 0., 0., 0., 0., 0., 0., 0., 0., 0.], dtype=float32)"
            ]
          },
          "metadata": {},
          "execution_count": 42
        }
      ]
    },
    {
      "cell_type": "markdown",
      "source": [
        "Before training the network\n",
        "<br>\n",
        "Mention number of epochs or forward passes and backward passes\n",
        "<br>\n",
        "Also specify the validation set"
      ],
      "metadata": {
        "id": "NMZDI8fyy086"
      }
    },
    {
      "cell_type": "code",
      "source": [
        "EPOCHS = 15\n",
        "VALIDATION_SET = (X_valid, y_valid)"
      ],
      "metadata": {
        "id": "znNMuq7Ryq8A"
      },
      "execution_count": 57,
      "outputs": []
    },
    {
      "cell_type": "markdown",
      "source": [
        "Train the network"
      ],
      "metadata": {
        "id": "kgmaa6F3zUuf"
      }
    },
    {
      "cell_type": "code",
      "source": [
        "history =  model1.fit (X_train, y_train, epochs = EPOCHS, validation_data = VALIDATION_SET)"
      ],
      "metadata": {
        "colab": {
          "base_uri": "https://localhost:8080/"
        },
        "id": "TsCL_TVUzXe1",
        "outputId": "80b98477-1a22-4019-be05-cc85d95d306b"
      },
      "execution_count": 58,
      "outputs": [
        {
          "output_type": "stream",
          "name": "stdout",
          "text": [
            "Epoch 1/15\n",
            "1719/1719 [==============================] - 5s 3ms/step - loss: 0.0279 - accuracy: 0.9908 - val_loss: 0.0729 - val_accuracy: 0.9818\n",
            "Epoch 2/15\n",
            "1719/1719 [==============================] - 5s 3ms/step - loss: 0.0223 - accuracy: 0.9924 - val_loss: 0.0805 - val_accuracy: 0.9808\n",
            "Epoch 3/15\n",
            "1719/1719 [==============================] - 5s 3ms/step - loss: 0.0211 - accuracy: 0.9931 - val_loss: 0.0814 - val_accuracy: 0.9812\n",
            "Epoch 4/15\n",
            "1719/1719 [==============================] - 5s 3ms/step - loss: 0.0180 - accuracy: 0.9944 - val_loss: 0.0866 - val_accuracy: 0.9818\n",
            "Epoch 5/15\n",
            "1719/1719 [==============================] - 5s 3ms/step - loss: 0.0161 - accuracy: 0.9945 - val_loss: 0.0807 - val_accuracy: 0.9826\n",
            "Epoch 6/15\n",
            "1719/1719 [==============================] - 5s 3ms/step - loss: 0.0146 - accuracy: 0.9951 - val_loss: 0.1028 - val_accuracy: 0.9816\n",
            "Epoch 7/15\n",
            "1719/1719 [==============================] - 5s 3ms/step - loss: 0.0151 - accuracy: 0.9953 - val_loss: 0.1001 - val_accuracy: 0.9798\n",
            "Epoch 8/15\n",
            "1719/1719 [==============================] - 5s 3ms/step - loss: 0.0109 - accuracy: 0.9960 - val_loss: 0.1040 - val_accuracy: 0.9822\n",
            "Epoch 9/15\n",
            "1719/1719 [==============================] - 5s 3ms/step - loss: 0.0112 - accuracy: 0.9963 - val_loss: 0.0965 - val_accuracy: 0.9840\n",
            "Epoch 10/15\n",
            "1719/1719 [==============================] - 5s 3ms/step - loss: 0.0119 - accuracy: 0.9961 - val_loss: 0.1028 - val_accuracy: 0.9846\n",
            "Epoch 11/15\n",
            "1719/1719 [==============================] - 6s 4ms/step - loss: 0.0110 - accuracy: 0.9965 - val_loss: 0.1075 - val_accuracy: 0.9822\n",
            "Epoch 12/15\n",
            "1719/1719 [==============================] - 5s 3ms/step - loss: 0.0090 - accuracy: 0.9969 - val_loss: 0.1180 - val_accuracy: 0.9824\n",
            "Epoch 13/15\n",
            "1719/1719 [==============================] - 5s 3ms/step - loss: 0.0104 - accuracy: 0.9966 - val_loss: 0.1327 - val_accuracy: 0.9812\n",
            "Epoch 14/15\n",
            "1719/1719 [==============================] - 5s 3ms/step - loss: 0.0109 - accuracy: 0.9966 - val_loss: 0.1159 - val_accuracy: 0.9822\n",
            "Epoch 15/15\n",
            "1719/1719 [==============================] - 5s 3ms/step - loss: 0.0074 - accuracy: 0.9977 - val_loss: 0.1622 - val_accuracy: 0.9806\n"
          ]
        }
      ]
    },
    {
      "cell_type": "markdown",
      "source": [
        "Loss is the error in classification \n",
        "<br>\n",
        "Accuracy is how much number of images we can correctly identify\n",
        "<br>\n",
        "3ms/step <br>\n",
        "loss: 0.0354 <br>\n",
        "accuracy: 0.9344 <br>\n",
        "val_loss: 0.1065 Validation loss<br>\n",
        "val_accuracy: 0.9664 Validation accuracy<br> <br>\n",
        "\n",
        "As accuracy increases, loss decreases.<br>\n",
        "During training we are adjusting the weights and bias <br>\n",
        "During validation, we test the data with an image <br>\n"
      ],
      "metadata": {
        "id": "yI1RwGhh0Anl"
      }
    },
    {
      "cell_type": "code",
      "source": [
        "# model1.save('filename')"
      ],
      "metadata": {
        "id": "C7CoJ3yw9YyA"
      },
      "execution_count": null,
      "outputs": []
    },
    {
      "cell_type": "markdown",
      "source": [
        "Prediction\n",
        "<br>\n",
        "First index in the array gives the probability for the input being 0 <br>\n",
        "Second index in the array gives a probability for the input being 1"
      ],
      "metadata": {
        "id": "h7HOJEZz1y1I"
      }
    },
    {
      "cell_type": "code",
      "source": [
        "prediction = model1.predict ( X_test[0:2])\n",
        "prediction = model1.predict ( X_test[0])"
      ],
      "metadata": {
        "colab": {
          "base_uri": "https://localhost:8080/"
        },
        "id": "tBOhoiCe1wG5",
        "outputId": "e499dee7-032d-472b-a6ef-71d6446d231e"
      },
      "execution_count": 59,
      "outputs": [
        {
          "output_type": "stream",
          "name": "stdout",
          "text": [
            "1/1 [==============================] - 0s 17ms/step\n",
            "1/1 [==============================] - 0s 13ms/step\n"
          ]
        }
      ]
    },
    {
      "cell_type": "code",
      "source": [
        "prediction"
      ],
      "metadata": {
        "colab": {
          "base_uri": "https://localhost:8080/"
        },
        "id": "Hq1ysxu41-9o",
        "outputId": "8e5a2d45-1bb9-4ff4-a67d-adc72723a08f"
      },
      "execution_count": 60,
      "outputs": [
        {
          "output_type": "execute_result",
          "data": {
            "text/plain": [
              "array([[3.2418493e-22, 1.5410172e-13, 2.0492931e-15, 1.6249173e-14,\n",
              "        1.7208886e-19, 9.9760478e-21, 1.2774494e-30, 1.0000000e+00,\n",
              "        2.2779729e-19, 6.6693991e-11]], dtype=float32)"
            ]
          },
          "metadata": {},
          "execution_count": 60
        }
      ]
    },
    {
      "cell_type": "code",
      "source": [
        "import numpy as np  # numerical py"
      ],
      "metadata": {
        "id": "2XcsX2E63Rao"
      },
      "execution_count": 61,
      "outputs": []
    },
    {
      "cell_type": "markdown",
      "source": [
        "argmax() Returns the index of the maximum value "
      ],
      "metadata": {
        "id": "PgtFPDPy3d98"
      }
    },
    {
      "cell_type": "code",
      "source": [
        "np.argmax(prediction)"
      ],
      "metadata": {
        "colab": {
          "base_uri": "https://localhost:8080/"
        },
        "id": "5mjJRbF-3bh5",
        "outputId": "1be9ac55-3c38-44ac-a1a1-2101461578d9"
      },
      "execution_count": 62,
      "outputs": [
        {
          "output_type": "execute_result",
          "data": {
            "text/plain": [
              "7"
            ]
          },
          "metadata": {},
          "execution_count": 62
        }
      ]
    },
    {
      "cell_type": "markdown",
      "source": [
        "Checking the value of y_test[0]"
      ],
      "metadata": {
        "id": "_caQBkbk3L4f"
      }
    },
    {
      "cell_type": "code",
      "source": [
        "y_test[0]"
      ],
      "metadata": {
        "colab": {
          "base_uri": "https://localhost:8080/"
        },
        "id": "mn5oiPMr3GBG",
        "outputId": "5e8ee6d9-03a9-4fae-9645-9dff67b1ea19"
      },
      "execution_count": 63,
      "outputs": [
        {
          "output_type": "execute_result",
          "data": {
            "text/plain": [
              "7"
            ]
          },
          "metadata": {},
          "execution_count": 63
        }
      ]
    },
    {
      "cell_type": "markdown",
      "source": [
        "Testing the entire values of the network <br>\n",
        "Probabilty values of every image"
      ],
      "metadata": {
        "id": "L3EJiNBC6HZ5"
      }
    },
    {
      "cell_type": "code",
      "source": [
        "model1.predict(X_test)"
      ],
      "metadata": {
        "colab": {
          "base_uri": "https://localhost:8080/"
        },
        "id": "dotxPa-J5_dw",
        "outputId": "163fb879-d16f-4e0c-fb5e-85c422eef5a3"
      },
      "execution_count": 64,
      "outputs": [
        {
          "output_type": "stream",
          "name": "stdout",
          "text": [
            "313/313 [==============================] - 1s 2ms/step\n"
          ]
        },
        {
          "output_type": "execute_result",
          "data": {
            "text/plain": [
              "array([[3.2418369e-22, 1.5410202e-13, 2.0492931e-15, ..., 1.0000000e+00,\n",
              "        2.2779642e-19, 6.6693859e-11],\n",
              "       [2.1414017e-35, 2.0278018e-20, 1.0000000e+00, ..., 1.8806572e-32,\n",
              "        7.8863983e-23, 0.0000000e+00],\n",
              "       [8.5975001e-20, 1.0000000e+00, 1.2699947e-13, ..., 2.4353487e-13,\n",
              "        4.6941123e-14, 1.6935247e-18],\n",
              "       ...,\n",
              "       [2.8654100e-30, 4.2691871e-23, 2.3688453e-25, ..., 4.3562454e-16,\n",
              "        2.3739908e-19, 1.2791721e-13],\n",
              "       [1.5969350e-30, 4.7205156e-30, 1.0297459e-30, ..., 2.2554228e-26,\n",
              "        1.6506499e-19, 1.0137998e-24],\n",
              "       [9.9204817e-30, 1.6290531e-30, 1.5738963e-26, ..., 0.0000000e+00,\n",
              "        1.5693835e-24, 4.2231863e-30]], dtype=float32)"
            ]
          },
          "metadata": {},
          "execution_count": 64
        }
      ]
    },
    {
      "cell_type": "code",
      "source": [
        "test_accuracy = model1.evaluate(X_test, y_test)\n",
        "#  loss: 0.0835 - accuracy: 0.9749"
      ],
      "metadata": {
        "colab": {
          "base_uri": "https://localhost:8080/"
        },
        "id": "ee3PAAyk6i2j",
        "outputId": "90f2e1bd-21cb-4e20-c6f0-6ba034af28e7"
      },
      "execution_count": 65,
      "outputs": [
        {
          "output_type": "stream",
          "name": "stdout",
          "text": [
            "313/313 [==============================] - 1s 3ms/step - loss: 0.1378 - accuracy: 0.9800\n"
          ]
        }
      ]
    }
  ]
}